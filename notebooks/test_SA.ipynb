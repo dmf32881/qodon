{
 "cells": [
  {
   "cell_type": "code",
   "execution_count": 21,
   "id": "labeled-forge",
   "metadata": {},
   "outputs": [],
   "source": [
    "# Available here: https://mygithub.gsk.com/dmf32881/quantum_codon_opt\n",
    "from qodon.src.classical_ga import CodonOptimization\n",
    "from qodon.src.codon_bqm import DWaveBQM\n",
    "from qodon.src.scoring import SeqScorer\n",
    "from rna_folding.rna_fold import RNAFold\n",
    "import tensorflow as tf, numpy as np\n",
    "import tensorflow_probability as tfp\n",
    "from Bio.Seq import Seq\n",
    "from Bio import SeqIO"
   ]
  },
  {
   "cell_type": "code",
   "execution_count": 23,
   "id": "ordinary-copper",
   "metadata": {},
   "outputs": [],
   "source": [
    "seq = str(SeqIO.read('examples/spike_trim.fasta','fasta').seq)\n",
    "\n",
    "# Run all of the preprocessing from the CodonOptimization class, but\n",
    "# no need to run the Genetic Algorithm (GA)\n",
    "co = CodonOptimization(seq,lazy=True)\n",
    "\n",
    "# Pull out initial population generation by previous command and\n",
    "# convert to TF object\n",
    "initial_members = tf.convert_to_tensor(([_[1] for _ in co.population]),np.float32)\n",
    "\n",
    "# Helper function to get number of possible codons for an amino acid\n",
    "get_nc = lambda res: len(co.code_map[res]['codons'])"
   ]
  },
  {
   "cell_type": "code",
   "execution_count": 30,
   "id": "e2f0a376-0cc1-4308-9a5b-e76521cbc527",
   "metadata": {},
   "outputs": [
    {
     "data": {
      "text/plain": [
       "'MFVFLVLLPLVSSQCVNLTTRTQLPPAYTNSFTRGVYYPDKVFRSSVLHSTQDLFLPFFSNVTWFHAIHVSGTNGTKRFDNPVLPFNDGVYFASTEKSNIIRGWIFGTTLDSKTQSLLIVNNATNVVIKVCEFQFCNDPFLGVYYHKNNKSWMESEFRVYSSANNCTFEYVSQPFLMDLEGKQGNFKNLREFVFKNIDGYFKIYSKHTPINLVRDLPQGFSALEPLVDLPIGINITRF'"
      ]
     },
     "execution_count": 30,
     "metadata": {},
     "output_type": "execute_result"
    }
   ],
   "source": [
    "seq"
   ]
  },
  {
   "cell_type": "code",
   "execution_count": 29,
   "id": "ab05d708-fdaa-446a-ae7a-6acc63a605d9",
   "metadata": {},
   "outputs": [
    {
     "data": {
      "text/plain": [
       "<tf.Tensor: shape=(238,), dtype=float32, numpy=\n",
       "array([0., 0., 3., 1., 2., 3., 4., 1., 0., 2., 1., 2., 1., 1., 1., 3., 0.,\n",
       "       0., 2., 1., 3., 2., 1., 5., 2., 2., 2., 1., 1., 1., 2., 0., 1., 0.,\n",
       "       1., 2., 0., 1., 2., 0., 1., 3., 1., 5., 0., 4., 3., 2., 0., 4., 2.,\n",
       "       0., 1., 4., 1., 2., 0., 1., 0., 3., 0., 2., 0., 0., 1., 1., 2., 2.,\n",
       "       0., 0., 5., 1., 0., 0., 2., 1., 0., 3., 1., 1., 1., 2., 1., 2., 2.,\n",
       "       1., 0., 1., 3., 2., 0., 0., 1., 2., 1., 0., 0., 3., 0., 1., 1., 3.,\n",
       "       3., 0., 2., 0., 3., 3., 3., 1., 0., 0., 0., 3., 1., 3., 3., 2., 2.,\n",
       "       1., 1., 0., 3., 0., 0., 2., 2., 1., 0., 2., 1., 0., 0., 1., 1., 1.,\n",
       "       0., 1., 2., 0., 2., 2., 3., 1., 1., 1., 0., 0., 1., 1., 5., 0., 0.,\n",
       "       0., 0., 0., 0., 5., 2., 0., 1., 0., 0., 1., 0., 1., 2., 1., 0., 1.,\n",
       "       1., 4., 0., 2., 1., 1., 0., 1., 3., 0., 2., 0., 1., 3., 1., 1., 0.,\n",
       "       1., 2., 5., 1., 0., 0., 0., 0., 1., 2., 1., 1., 1., 0., 0., 2., 0.,\n",
       "       1., 0., 1., 3., 0., 2., 1., 2., 2., 1., 1., 5., 3., 1., 1., 1., 0.,\n",
       "       2., 2., 0., 1., 1., 0., 1., 2., 2., 2., 2., 1., 1., 0., 2., 0., 0.],\n",
       "      dtype=float32)>"
      ]
     },
     "execution_count": 29,
     "metadata": {},
     "output_type": "execute_result"
    }
   ],
   "source": [
    "initial_members[0]"
   ]
  },
  {
   "cell_type": "code",
   "execution_count": 27,
   "id": "ad63321e-fa0e-4845-86ca-959b586454a6",
   "metadata": {
    "scrolled": true,
    "tags": []
   },
   "outputs": [
    {
     "data": {
      "text/plain": [
       "{'A': {'scores': [0.21, 0.27, 0.36, 0.16],\n",
       "  'codons': ['GCA', 'GCC', 'GCG', 'GCT'],\n",
       "  'log_scores': [0.5389965007326869,\n",
       "   0.2876820724517808,\n",
       "   0.0,\n",
       "   0.8109302162163287],\n",
       "  'probs': [0.21, 0.48, 0.84, 1.0]},\n",
       " 'C': {'scores': [0.56, 0.44],\n",
       "  'codons': ['TGC', 'TGT'],\n",
       "  'log_scores': [0.0, 0.2411620568168881],\n",
       "  'probs': [0.56, 1.0]},\n",
       " 'D': {'scores': [0.37, 0.63],\n",
       "  'codons': ['GAC', 'GAT'],\n",
       "  'log_scores': [0.5322168137473082, 0.0],\n",
       "  'probs': [0.37, 1.0]},\n",
       " 'E': {'scores': [0.69, 0.31],\n",
       "  'codons': ['GAA', 'GAG'],\n",
       "  'log_scores': [0.0, 0.8001193001121131],\n",
       "  'probs': [0.69, 1.0]},\n",
       " 'F': {'scores': [0.43, 0.57],\n",
       "  'codons': ['TTC', 'TTT'],\n",
       "  'log_scores': [0.2818511521409877, 0.0],\n",
       "  'probs': [0.43, 1.0]},\n",
       " 'G': {'scores': [0.11, 0.41, 0.15, 0.34],\n",
       "  'codons': ['GGA', 'GGC', 'GGG', 'GGT'],\n",
       "  'log_scores': [1.3156767939059373,\n",
       "   0.0,\n",
       "   1.0055218656020977,\n",
       "   0.18721154208814633],\n",
       "  'probs': [0.11, 0.52, 0.67, 1.01]},\n",
       " 'H': {'scores': [0.43, 0.57],\n",
       "  'codons': ['CAC', 'CAT'],\n",
       "  'log_scores': [0.2818511521409877, 0.0],\n",
       "  'probs': [0.43, 1.0]},\n",
       " 'I': {'scores': [0.07, 0.42, 0.51],\n",
       "  'codons': ['ATA', 'ATC', 'ATT'],\n",
       "  'log_scores': [1.9859154836690123, 0.1941560144409575, 0.0],\n",
       "  'probs': [0.07, 0.49, 1.0]},\n",
       " 'K': {'scores': [0.76, 0.24],\n",
       "  'codons': ['AAA', 'AAG'],\n",
       "  'log_scores': [0.0, 1.1526795099383855],\n",
       "  'probs': [0.76, 1.0]},\n",
       " 'L': {'scores': [0.04, 0.1, 0.5, 0.1, 0.13, 0.13],\n",
       "  'codons': ['CTA', 'CTC', 'CTG', 'CTT', 'TTA', 'TTG'],\n",
       "  'log_scores': [2.5257286443082556,\n",
       "   1.6094379124341003,\n",
       "   0.0,\n",
       "   1.6094379124341003,\n",
       "   1.3470736479666092,\n",
       "   1.3470736479666092],\n",
       "  'probs': [0.04, 0.14, 0.64, 0.74, 0.87, 1.0]},\n",
       " 'M': {'scores': [1.0],\n",
       "  'codons': ['ATG'],\n",
       "  'log_scores': [0.0],\n",
       "  'probs': [1.0]},\n",
       " 'N': {'scores': [0.55, 0.45],\n",
       "  'codons': ['AAC', 'AAT'],\n",
       "  'log_scores': [0.0, 0.20067069546215124],\n",
       "  'probs': [0.55, 1.0]},\n",
       " 'P': {'scores': [0.19, 0.12, 0.53, 0.16],\n",
       "  'codons': ['CCA', 'CCC', 'CCG', 'CCT'],\n",
       "  'log_scores': [1.0258529343856815,\n",
       "   1.4853852637641216,\n",
       "   0.0,\n",
       "   1.1977031913123406],\n",
       "  'probs': [0.19, 0.31, 0.8400000000000001, 1.0]},\n",
       " 'Q': {'scores': [0.35, 0.65],\n",
       "  'codons': ['CAA', 'CAG'],\n",
       "  'log_scores': [0.6190392084062235, 0.0],\n",
       "  'probs': [0.35, 1.0]},\n",
       " 'R': {'scores': [0.04, 0.02, 0.06, 0.4, 0.1, 0.38],\n",
       "  'codons': ['AGA', 'AGG', 'CGA', 'CGC', 'CGG', 'CGT'],\n",
       "  'log_scores': [2.302585092994046,\n",
       "   2.9957322735539913,\n",
       "   1.8971199848858813,\n",
       "   0.0,\n",
       "   1.3862943611198906,\n",
       "   0.05129329438755058],\n",
       "  'probs': [0.04, 0.06, 0.12, 0.52, 0.62, 1.0]},\n",
       " 'S': {'scores': [0.28, 0.15, 0.12, 0.15, 0.15, 0.15],\n",
       "  'codons': ['AGC', 'AGT', 'TCA', 'TCC', 'TCG', 'TCT'],\n",
       "  'log_scores': [0.0,\n",
       "   0.6241543090729939,\n",
       "   0.8472978603872038,\n",
       "   0.6241543090729939,\n",
       "   0.6241543090729939,\n",
       "   0.6241543090729939],\n",
       "  'probs': [0.28,\n",
       "   0.43000000000000005,\n",
       "   0.55,\n",
       "   0.7000000000000001,\n",
       "   0.8500000000000001,\n",
       "   1.0]},\n",
       " 'T': {'scores': [0.13, 0.44, 0.27, 0.16],\n",
       "  'codons': ['ACA', 'ACC', 'ACG', 'ACT'],\n",
       "  'log_scores': [1.2192402764567243,\n",
       "   0.0,\n",
       "   0.48835276791393206,\n",
       "   1.0116009116784799],\n",
       "  'probs': [0.13, 0.5700000000000001, 0.8400000000000001, 1.0]},\n",
       " 'V': {'scores': [0.15, 0.22, 0.37, 0.26],\n",
       "  'codons': ['GTA', 'GTC', 'GTG', 'GTT'],\n",
       "  'log_scores': [0.9028677115420145,\n",
       "   0.5198754592859085,\n",
       "   0.0,\n",
       "   0.3528213746227423],\n",
       "  'probs': [0.15, 0.37, 0.74, 1.0]},\n",
       " 'W': {'scores': [1.0],\n",
       "  'codons': ['TGG'],\n",
       "  'log_scores': [0.0],\n",
       "  'probs': [1.0]},\n",
       " 'Y': {'scores': [0.43, 0.57],\n",
       "  'codons': ['TAC', 'TAT'],\n",
       "  'log_scores': [0.2818511521409877, 0.0],\n",
       "  'probs': [0.43, 1.0]}}"
      ]
     },
     "execution_count": 27,
     "metadata": {},
     "output_type": "execute_result"
    }
   ],
   "source": [
    "co.code_map"
   ]
  },
  {
   "cell_type": "code",
   "execution_count": 3,
   "id": "633ecf01-3aa9-42c7-890e-0bac01507fb5",
   "metadata": {},
   "outputs": [],
   "source": [
    "def tf_fold(nseq):\n",
    "    rna_ss = RNAFold(nseq, min_stem_len=4, min_loop_len=4)\n",
    "    results = rna_ss.compute_dwave_sa()\n",
    "    return results.first.energy"
   ]
  },
  {
   "cell_type": "code",
   "execution_count": 4,
   "id": "3b7d0324-b5f2-460e-a6e7-cca5bf09b65c",
   "metadata": {},
   "outputs": [],
   "source": [
    "def convert_to_nseqs(members):\n",
    "    # This is a hack. TF deals with continuous valued functions. We need discrete and finite.\n",
    "    # So let's cheat. Whatever values are assigned, make them ints and take the absolute value.\n",
    "    members = np.absolute(np.array(members).astype(int))\n",
    "    \n",
    "    # Now we want to do something with the values. It's possible that some values exceed the\n",
    "    # number of codons for the given position, so take the modulus. This is effectively a hashing\n",
    "    # function. It's not mathematically rigorous, but it's good enough.\n",
    "    # Finally, convert list of indices to the RNA sequence.\n",
    "    get_seq = lambda se: ''.join([co.code_map[res]['codons'][se[i] % get_nc(res)] for i, res in enumerate(seq)])\n",
    "    n_seqs = [get_seq(se) for se in members]\n",
    "    return n_seqs\n",
    "\n",
    "def objective(members):\n",
    "    '''\n",
    "    Objective function for TF to minimize\n",
    "    \n",
    "    NOTE: TF uses gradient descent to minimize continuous valued functions.\n",
    "    The approach used here is not mathematically sound. It's a hack. But\n",
    "    it gets the job done. \n",
    "    \n",
    "    '''\n",
    "    \n",
    "    # Map continuous valued tensor to RNA sequence\n",
    "    n_seqs = convert_to_nseqs(members)\n",
    "    \n",
    "    # Use the imported scoring function to score all sequences.\n",
    "    #scores = [SeqScorer(s).score for s in n_seqs]\n",
    "    scores = [tf_fold(s) for s in n_seqs]\n",
    "    \n",
    "    # Return TF object\n",
    "    return tf.cast(scores, np.float32)"
   ]
  },
  {
   "cell_type": "code",
   "execution_count": 5,
   "id": "64d53241-f591-439f-b439-29986c383058",
   "metadata": {},
   "outputs": [
    {
     "name": "stdout",
     "output_type": "stream",
     "text": [
      "TF with 100 iterations: -1821.0\n",
      "CPU times: user 53.5 s, sys: 1.05 s, total: 54.5 s\n",
      "Wall time: 52.9 s\n"
     ]
    }
   ],
   "source": [
    "%%time\n",
    "# More tricks. \n",
    "# Differential_weight: controls strength of mutations. We basically want to turn this off.\n",
    "# Crossover_prob: set this low. Need to think more about why this helps.\n",
    "optim_results = tfp.optimizer.differential_evolution_minimize(\n",
    "    objective,\n",
    "    initial_population=initial_members,\n",
    "    max_iterations=10,\n",
    "    differential_weight=0.01,\n",
    "    crossover_prob=0.1,\n",
    ")\n",
    "# Translate \"best\" result back to protein sequence to verify it is valid\n",
    "nseq = convert_to_nseqs(optim_results.final_population)[np.argmin(optim_results.final_objective_values)]\n",
    "print('TF with 100 iterations:',np.min(optim_results.final_objective_values))"
   ]
  },
  {
   "cell_type": "code",
   "execution_count": 9,
   "id": "5ef2c873-71d4-454e-857e-6ee65745a2f7",
   "metadata": {},
   "outputs": [],
   "source": [
    "aas = 'ACDEFGHIKLMNPQRSTVWY'"
   ]
  },
  {
   "cell_type": "code",
   "execution_count": 16,
   "id": "d5df87da-4f55-4b0d-8e31-5ac8f461cd41",
   "metadata": {},
   "outputs": [
    {
     "data": {
      "text/plain": [
       "True"
      ]
     },
     "execution_count": 16,
     "metadata": {},
     "output_type": "execute_result"
    }
   ],
   "source": [
    "any(_ not in aas for _ in 'AAC')"
   ]
  },
  {
   "cell_type": "code",
   "execution_count": 20,
   "id": "9fc1c74b-ab8e-4fe2-901c-8d7072e60e04",
   "metadata": {},
   "outputs": [
    {
     "data": {
      "text/plain": [
       "True"
      ]
     },
     "execution_count": 20,
     "metadata": {},
     "output_type": "execute_result"
    }
   ],
   "source": [
    "set('ACG').issubset(set('ACGU'))"
   ]
  },
  {
   "cell_type": "code",
   "execution_count": null,
   "id": "afc3bcfe-333b-4140-a500-f67661bf0fe4",
   "metadata": {},
   "outputs": [],
   "source": []
  }
 ],
 "metadata": {
  "kernelspec": {
   "display_name": "Python (quvax)",
   "language": "python",
   "name": "quvax"
  },
  "language_info": {
   "codemirror_mode": {
    "name": "ipython",
    "version": 3
   },
   "file_extension": ".py",
   "mimetype": "text/x-python",
   "name": "python",
   "nbconvert_exporter": "python",
   "pygments_lexer": "ipython3",
   "version": "3.7.10"
  }
 },
 "nbformat": 4,
 "nbformat_minor": 5
}
