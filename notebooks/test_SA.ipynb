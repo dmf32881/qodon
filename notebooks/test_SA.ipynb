{
 "cells": [
  {
   "cell_type": "code",
   "execution_count": 1,
   "id": "labeled-forge",
   "metadata": {},
   "outputs": [],
   "source": [
    "# Available here: https://mygithub.gsk.com/dmf32881/quantum_codon_opt\n",
    "from qodon.src.classical_ga import CodonOptimization\n",
    "from qodon.src.codon_bqm import DWaveBQM\n",
    "from qodon.src.scoring import SeqScorer\n",
    "from rna_folding.rna_fold import RNAFold\n",
    "import tensorflow as tf, numpy as np\n",
    "import tensorflow_probability as tfp\n",
    "from Bio.Seq import Seq\n",
    "from Bio import SeqIO"
   ]
  },
  {
   "cell_type": "code",
   "execution_count": 2,
   "id": "ordinary-copper",
   "metadata": {},
   "outputs": [],
   "source": [
    "seq = str(SeqIO.read('spike_trim.fasta','fasta').seq)\n",
    "\n",
    "# Run all of the preprocessing from the CodonOptimization class, but\n",
    "# no need to run the Genetic Algorithm (GA)\n",
    "co = CodonOptimization(seq,lazy=True)\n",
    "\n",
    "# Pull out initial population generation by previous command and\n",
    "# convert to TF object\n",
    "initial_members = tf.convert_to_tensor(([_[1] for _ in co.population]),np.float32)\n",
    "\n",
    "# Helper function to get number of possible codons for an amino acid\n",
    "get_nc = lambda res: len(co.code_map[res]['codons'])"
   ]
  },
  {
   "cell_type": "code",
   "execution_count": 3,
   "id": "633ecf01-3aa9-42c7-890e-0bac01507fb5",
   "metadata": {},
   "outputs": [],
   "source": [
    "def tf_fold(nseq):\n",
    "    rna_ss = RNAFold(nseq, min_stem_len=4, min_loop_len=4)\n",
    "    results = rna_ss.compute_dwave_sa()\n",
    "    return results.first.energy"
   ]
  },
  {
   "cell_type": "code",
   "execution_count": 4,
   "id": "3b7d0324-b5f2-460e-a6e7-cca5bf09b65c",
   "metadata": {},
   "outputs": [],
   "source": [
    "def convert_to_nseqs(members):\n",
    "    # This is a hack. TF deals with continuous valued functions. We need discrete and finite.\n",
    "    # So let's cheat. Whatever values are assigned, make them ints and take the absolute value.\n",
    "    members = np.absolute(np.array(members).astype(int))\n",
    "    \n",
    "    # Now we want to do something with the values. It's possible that some values exceed the\n",
    "    # number of codons for the given position, so take the modulus. This is effectively a hashing\n",
    "    # function. It's not mathematically rigorous, but it's good enough.\n",
    "    # Finally, convert list of indices to the RNA sequence.\n",
    "    get_seq = lambda se: ''.join([co.code_map[res]['codons'][se[i] % get_nc(res)] for i, res in enumerate(seq)])\n",
    "    n_seqs = [get_seq(se) for se in members]\n",
    "    return n_seqs\n",
    "\n",
    "def objective(members):\n",
    "    '''\n",
    "    Objective function for TF to minimize\n",
    "    \n",
    "    NOTE: TF uses gradient descent to minimize continuous valued functions.\n",
    "    The approach used here is not mathematically sound. It's a hack. But\n",
    "    it gets the job done. \n",
    "    \n",
    "    '''\n",
    "    \n",
    "    # Map continuous valued tensor to RNA sequence\n",
    "    n_seqs = convert_to_nseqs(members)\n",
    "    \n",
    "    # Use the imported scoring function to score all sequences.\n",
    "    #scores = [SeqScorer(s).score for s in n_seqs]\n",
    "    scores = [tf_fold(s) for s in n_seqs]\n",
    "    \n",
    "    # Return TF object\n",
    "    return tf.cast(scores, np.float32)"
   ]
  },
  {
   "cell_type": "code",
   "execution_count": 5,
   "id": "64d53241-f591-439f-b439-29986c383058",
   "metadata": {},
   "outputs": [
    {
     "name": "stdout",
     "output_type": "stream",
     "text": [
      "TF with 100 iterations: -1821.0\n",
      "CPU times: user 53.5 s, sys: 1.05 s, total: 54.5 s\n",
      "Wall time: 52.9 s\n"
     ]
    }
   ],
   "source": [
    "%%time\n",
    "# More tricks. \n",
    "# Differential_weight: controls strength of mutations. We basically want to turn this off.\n",
    "# Crossover_prob: set this low. Need to think more about why this helps.\n",
    "optim_results = tfp.optimizer.differential_evolution_minimize(\n",
    "    objective,\n",
    "    initial_population=initial_members,\n",
    "    max_iterations=10,\n",
    "    differential_weight=0.01,\n",
    "    crossover_prob=0.1,\n",
    ")\n",
    "# Translate \"best\" result back to protein sequence to verify it is valid\n",
    "nseq = convert_to_nseqs(optim_results.final_population)[np.argmin(optim_results.final_objective_values)]\n",
    "print('TF with 100 iterations:',np.min(optim_results.final_objective_values))"
   ]
  },
  {
   "cell_type": "code",
   "execution_count": null,
   "id": "5ef2c873-71d4-454e-857e-6ee65745a2f7",
   "metadata": {},
   "outputs": [],
   "source": []
  }
 ],
 "metadata": {
  "kernelspec": {
   "display_name": "Python (quvax)",
   "language": "python",
   "name": "quvax"
  },
  "language_info": {
   "codemirror_mode": {
    "name": "ipython",
    "version": 3
   },
   "file_extension": ".py",
   "mimetype": "text/x-python",
   "name": "python",
   "nbconvert_exporter": "python",
   "pygments_lexer": "ipython3",
   "version": "3.7.10"
  }
 },
 "nbformat": 4,
 "nbformat_minor": 5
}
