{
 "cells": [
  {
   "cell_type": "code",
   "execution_count": 7,
   "id": "labeled-forge",
   "metadata": {},
   "outputs": [],
   "source": [
    "# Available here: https://mygithub.gsk.com/dmf32881/quantum_codon_opt\n",
    "from quantum_codon_opt.src.classical_ga import CodonOptimization\n",
    "from quantum_codon_opt.src.scoring import SeqScorer\n",
    "import tensorflow as tf, numpy as np\n",
    "import tensorflow_probability as tfp\n",
    "from Bio.Seq import Seq\n",
    "from Bio import SeqIO"
   ]
  },
  {
   "cell_type": "code",
   "execution_count": 8,
   "id": "ordinary-copper",
   "metadata": {},
   "outputs": [],
   "source": [
    "seq = str(SeqIO.read('spike.fasta','fasta').seq)\n",
    "\n",
    "# Run all of the preprocessing from the CodonOptimization class, but\n",
    "# no need to run the Genetic Algorithm (GA)\n",
    "co = CodonOptimization(seq,auto_exec=False)\n",
    "\n",
    "# Pull out initial population generation by previous command and\n",
    "# convert to TF object\n",
    "initial_members = tf.convert_to_tensor(([_[1] for _ in co._get_initial_members()]),np.float32)\n",
    "\n",
    "# Helper function to get number of possible codons for an amino acid\n",
    "get_nc = lambda res: len(co.code_map[res]['codons'])"
   ]
  },
  {
   "cell_type": "code",
   "execution_count": 3,
   "id": "handed-chapter",
   "metadata": {},
   "outputs": [],
   "source": [
    "def convert_to_nseqs(members):\n",
    "    # This is a hack. TF deals with continuous valued functions. We need discrete and finite.\n",
    "    # So let's cheat. Whatever values are assigned, make them ints and take the absolute value.\n",
    "    members = np.absolute(np.array(members).astype(int))\n",
    "    \n",
    "    # Now we want to do something with the values. It's possible that some values exceed the\n",
    "    # number of codons for the given position, so take the modulus. This is effectively a hashing\n",
    "    # function. It's not mathematically rigorous, but it's good enough.\n",
    "    # Finally, convert list of indices to the RNA sequence.\n",
    "    get_seq = lambda se: ''.join([co.code_map[res]['codons'][se[i] % get_nc(res)] for i, res in enumerate(seq)])\n",
    "    n_seqs = [get_seq(se) for se in members]\n",
    "    return n_seqs"
   ]
  },
  {
   "cell_type": "code",
   "execution_count": 4,
   "id": "moving-detective",
   "metadata": {},
   "outputs": [],
   "source": [
    "def objective(members):\n",
    "    '''\n",
    "    Objective function for TF to minimize\n",
    "    \n",
    "    NOTE: TF uses gradient descent to minimize continuous valued functions.\n",
    "    The approach used here is not mathematically sound. It's a hack. But\n",
    "    it gets the job done. \n",
    "    \n",
    "    FOR DEMONSTRATION PURPOSES ONLY.\n",
    "    \n",
    "    '''\n",
    "    \n",
    "    # Map continuous valued tensor to RNA sequence\n",
    "    n_seqs = convert_to_nseqs(members)\n",
    "    \n",
    "    # Use the imported scoring function to score all sequences.\n",
    "    scores = [SeqScorer(s).score for s in n_seqs]\n",
    "    \n",
    "    # Return TF object\n",
    "    return tf.cast(scores, np.float32)"
   ]
  },
  {
   "cell_type": "code",
   "execution_count": 5,
   "id": "center-seattle",
   "metadata": {},
   "outputs": [
    {
     "name": "stdout",
     "output_type": "stream",
     "text": [
      "TF with 500 iterations: 264.08112\n",
      "CPU times: user 2min 4s, sys: 360 ms, total: 2min 5s\n",
      "Wall time: 2min 2s\n"
     ]
    }
   ],
   "source": [
    "%%time\n",
    "# More tricks. \n",
    "# Differential_weight: controls strength of mutations. We basically want to turn this off.\n",
    "# Crossover_prob: set this low. Need to think more about why this helps.\n",
    "optim_results = tfp.optimizer.differential_evolution_minimize(\n",
    "    objective,\n",
    "    initial_population=initial_members,\n",
    "    max_iterations=500,\n",
    "    differential_weight=0.01,\n",
    "    crossover_prob=0.1,\n",
    ")\n",
    "# Translate \"best\" result back to protein sequence to verify it is valid\n",
    "nseq = convert_to_nseqs(optim_results.final_population)[np.argmin(optim_results.final_objective_values)]\n",
    "if seq != str(Seq(nseq).transcribe().translate()):\n",
    "    print('RNA sequence did not translate back to the input amino acid sequence!')\n",
    "print('TF with 500 iterations:',np.min(optim_results.final_objective_values))"
   ]
  },
  {
   "cell_type": "code",
   "execution_count": 6,
   "id": "competitive-hundred",
   "metadata": {},
   "outputs": [
    {
     "name": "stdout",
     "output_type": "stream",
     "text": [
      "GA with 500 iterations: 333.74105186269077\n",
      "CPU times: user 2min 15s, sys: 169 ms, total: 2min 15s\n",
      "Wall time: 2min 15s\n"
     ]
    }
   ],
   "source": [
    "%%time\n",
    "if True:\n",
    "    # Compare to GA with defaults\n",
    "    co.execute()\n",
    "    print('GA with 500 iterations:',co.score)"
   ]
  },
  {
   "cell_type": "code",
   "execution_count": null,
   "id": "mounted-junior",
   "metadata": {},
   "outputs": [],
   "source": []
  }
 ],
 "metadata": {
  "kernelspec": {
   "display_name": "Environment (conda_tf)",
   "language": "python",
   "name": "conda_tf"
  },
  "language_info": {
   "codemirror_mode": {
    "name": "ipython",
    "version": 3
   },
   "file_extension": ".py",
   "mimetype": "text/x-python",
   "name": "python",
   "nbconvert_exporter": "python",
   "pygments_lexer": "ipython3",
   "version": "3.9.4"
  }
 },
 "nbformat": 4,
 "nbformat_minor": 5
}
